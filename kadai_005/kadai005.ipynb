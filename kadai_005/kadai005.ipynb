{
 "cells": [
  {
   "cell_type": "code",
   "execution_count": null,
   "id": "6407d5ec-eb75-4c86-82f8-1a92edab0246",
   "metadata": {},
   "outputs": [
    {
     "name": "stdout",
     "output_type": "stream",
     "text": [
      "75.0cm\n"
     ]
    }
   ],
   "source": [
    "# %%  台形の面積を出力\n",
    "\n",
    "upper = 10\n",
    "bottom = 20\n",
    "hight = 5\n",
    "\n",
    "a = upper + bottom\n",
    "print(str(a*hight/2)+\"cm\")"
   ]
  },
  {
   "cell_type": "code",
   "execution_count": null,
   "id": "cd38db80-ff23-47d2-925b-1dca97f68f87",
   "metadata": {},
   "outputs": [
    {
     "name": "stdout",
     "output_type": "stream",
     "text": [
      "75.0㎠\n"
     ]
    }
   ],
   "source": [
    "# %%  台形の面積を出力\n",
    "\n",
    "upper = 10\n",
    "bottom = 20\n",
    "hight = 5\n",
    "\n",
    "area = (upper + bottom) * hight / 2\n",
    "print(str(a*hight/2)+\"㎠\")"
   ]
  },
  {
   "cell_type": "code",
   "execution_count": null,
   "id": "349de33f-ca4d-4762-8369-f0f7672744c2",
   "metadata": {},
   "outputs": [
    {
     "name": "stdout",
     "output_type": "stream",
     "text": [
      "75.0㎠\n"
     ]
    }
   ],
   "source": [
    "# %%  台形の面積を出力\n",
    "\n",
    "upper = 10\n",
    "bottom = 20\n",
    "hight = 5\n",
    "\n",
    "area = (upper + bottom) * hight / 2\n",
    "print(str(area)+\"㎠\")"
   ]
  }
 ],
 "metadata": {
  "language_info": {
   "codemirror_mode": {
    "name": "ipython",
    "version": 3
   },
   "file_extension": ".py",
   "mimetype": "text/x-python",
   "name": "python",
   "nbconvert_exporter": "python",
   "pygments_lexer": "ipython3",
   "version": 3
  }
 },
 "nbformat": 4,
 "nbformat_minor": 2
}
