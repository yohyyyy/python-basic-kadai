{
 "cells": [
  {
   "cell_type": "code",
   "execution_count": null,
   "id": "6407d5ec-eb75-4c86-82f8-1a92edab0246",
   "metadata": {},
   "outputs": [
    {
     "name": "stdout",
     "output_type": "stream",
     "text": [
      "75.0cm\n"
     ]
    }
   ],
   "source": [
    "# %%  台形の面積を出力\n",
    "\n",
    "upper = 10\n",
    "bottom = 20\n",
    "hight = 5\n",
    "\n",
    "a = upper + bottom\n",
    "print(str(a*hight/2)+\"cm\")"
   ]
  }
 ],
 "metadata": {
  "language_info": {
   "codemirror_mode": {
    "name": "ipython",
    "version": 3
   },
   "file_extension": ".py",
   "mimetype": "text/x-python",
   "name": "python",
   "nbconvert_exporter": "python",
   "pygments_lexer": "ipython3",
   "version": 3
  }
 },
 "nbformat": 4,
 "nbformat_minor": 2
}
