{
 "cells": [
  {
   "cell_type": "code",
   "execution_count": 1,
   "id": "b918947d-5791-4cf1-9048-85409beb4349",
   "metadata": {},
   "outputs": [
    {
     "name": "stdout",
     "output_type": "stream",
     "text": [
      "水曜日は晴れです\n",
      "晴れ\n"
     ]
    }
   ],
   "source": [
    "#%% リスト\n",
    "\n",
    "array = ['月曜日は晴れです','火曜日は雨です','水曜日は晴れです','木曜日は晴れです','金曜日は曇りです','土曜日は曇りのち雨です','日曜日は雷雨です']\n",
    "\n",
    "dictionary = {'mon':'晴れ','tue':'雨','wed':'晴れ','thu':'晴れ','fri':'曇り','sat':'曇りのち雨','sun':'雷雨'}\n",
    "\n",
    "print(array[2])\n",
    "print(dictionary['wed'])"
   ]
  }
 ],
 "metadata": {
  "kernelspec": {
   "display_name": "Python 3",
   "language": "python",
   "name": "python3"
  },
  "language_info": {
   "codemirror_mode": {
    "name": "ipython",
    "version": 3
   },
   "file_extension": ".py",
   "mimetype": "text/x-python",
   "name": "python",
   "nbconvert_exporter": "python",
   "pygments_lexer": "ipython3",
   "version": "3.12.4"
  }
 },
 "nbformat": 4,
 "nbformat_minor": 2
}
