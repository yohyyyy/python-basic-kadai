{
 "cells": [
  {
   "cell_type": "code",
   "execution_count": null,
   "id": "f4baa33e-92e0-49c2-95d0-dbca509c2f45",
   "metadata": {},
   "outputs": [
    {
     "name": "stdout",
     "output_type": "stream",
     "text": [
      "30\n",
      "Fizz\n"
     ]
    }
   ],
   "source": [
    "#%%\n",
    "\n",
    "import random\n",
    "\n",
    "num = random.randint(0,99)\n",
    "print(num)\n",
    "\n",
    "if num % 3 == 0 :\n",
    "    print('Fizz')\n",
    "elif num % 5 == 0 :\n",
    "    print('Buzz')\n",
    "elif num % 3 == 0 and num % 5 == 0 :\n",
    "    print('FizzBuzz')\n",
    "else :\n",
    "    print(num)"
   ]
  }
 ],
 "metadata": {
  "language_info": {
   "codemirror_mode": {
    "name": "ipython",
    "version": 3
   },
   "file_extension": ".py",
   "mimetype": "text/x-python",
   "name": "python",
   "nbconvert_exporter": "python",
   "pygments_lexer": "ipython3",
   "version": 3
  }
 },
 "nbformat": 4,
 "nbformat_minor": 2
}
