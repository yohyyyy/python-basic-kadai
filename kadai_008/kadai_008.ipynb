{
 "cells": [
  {
   "cell_type": "code",
   "execution_count": null,
   "id": "ec28eac7-8f3d-480d-b885-baab88590267",
   "metadata": {},
   "outputs": [
    {
     "name": "stdout",
     "output_type": "stream",
     "text": [
      "57\n",
      "Fizz\n"
     ]
    }
   ],
   "source": [
    "#%%\n",
    "\n",
    "import random\n",
    "\n",
    "var = random.randint(0,99)\n",
    "print(var)\n",
    "\n",
    "if var % 3 == 0 and var % 5 == 0 :\n",
    "    print('FizzBuzz')\n",
    "elif var % 5 == 0 :\n",
    "    print('Buzz')\n",
    "elif var % 3 == 0 :\n",
    "    print('Fizz')\n",
    "else :\n",
    "    print(var)"
   ]
  }
 ],
 "metadata": {
  "language_info": {
   "codemirror_mode": {
    "name": "ipython",
    "version": 3
   },
   "file_extension": ".py",
   "mimetype": "text/x-python",
   "name": "python",
   "nbconvert_exporter": "python",
   "pygments_lexer": "ipython3",
   "version": 3
  }
 },
 "nbformat": 4,
 "nbformat_minor": 2
}
