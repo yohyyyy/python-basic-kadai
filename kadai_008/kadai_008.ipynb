{
 "cells": [
  {
   "cell_type": "code",
   "execution_count": null,
   "id": "59b71e76-a0c1-4602-a0ac-2856b7b003b4",
   "metadata": {},
   "outputs": [
    {
     "name": "stdout",
     "output_type": "stream",
     "text": [
      "42\n",
      "Fizz\n"
     ]
    }
   ],
   "source": [
    "# %%\n",
    "\n",
    "import random\n",
    "\n",
    "var = random.randint(1,99)\n",
    "print(var)\n",
    "\n",
    "if var % 3 == 0 and var % 5 == 0 :\n",
    "    print('FizzBuzz')\n",
    "elif var % 5 == 0 :\n",
    "    print('Buzz')\n",
    "elif var % 3 == 0 :\n",
    "    print('Fizz')\n",
    "else :\n",
    "    print(var)"
   ]
  }
 ],
 "metadata": {
  "language_info": {
   "codemirror_mode": {
    "name": "ipython",
    "version": 3
   },
   "file_extension": ".py",
   "mimetype": "text/x-python",
   "name": "python",
   "nbconvert_exporter": "python",
   "pygments_lexer": "ipython3",
   "version": 3
  }
 },
 "nbformat": 4,
 "nbformat_minor": 2
}
