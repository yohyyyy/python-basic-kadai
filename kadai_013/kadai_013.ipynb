{
 "cells": [
  {
   "cell_type": "code",
   "execution_count": null,
   "id": "76932edf-2eb0-4e60-b192-66c37792387d",
   "metadata": {},
   "outputs": [
    {
     "data": {
      "text/plain": [
       "121.00000000000001"
      ]
     },
     "execution_count": 20,
     "metadata": {},
     "output_type": "execute_result"
    }
   ],
   "source": [
    "# %%\n",
    "\n",
    "item_price = 110\n",
    "tax_rate = 0.1\n",
    "\n",
    "def calc_consumption_tax(item_price: int ,tax_rate: float)->int:\n",
    "    total_price = item_price * (1 + tax_rate)\n",
    "    return total_price  \n",
    "\n",
    "calc_consumption_tax(item_price, tax_rate)\n",
    "#"
   ]
  }
 ],
 "metadata": {
  "language_info": {
   "codemirror_mode": {
    "name": "ipython",
    "version": 3
   },
   "file_extension": ".py",
   "mimetype": "text/x-python",
   "name": "python",
   "nbconvert_exporter": "python",
   "pygments_lexer": "ipython3",
   "version": 3
  }
 },
 "nbformat": 4,
 "nbformat_minor": 2
}
