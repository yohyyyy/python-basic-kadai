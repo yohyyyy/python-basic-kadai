{
 "cells": [
  {
   "cell_type": "code",
   "execution_count": null,
   "id": "fecce830-e70b-4888-8f8f-ed44808c7c97",
   "metadata": {},
   "outputs": [
    {
     "ename": "NameError",
     "evalue": "name 'tax' is not defined",
     "output_type": "error",
     "traceback": [
      "\u001b[1;31m---------------------------------------------------------------------------\u001b[0m",
      "\u001b[1;31mNameError\u001b[0m                                 Traceback (most recent call last)",
      "File \u001b[1;32mUntitled-1:9\u001b[0m\n\u001b[0;32m      6\u001b[0m     tax \u001b[39m=\u001b[39m \u001b[39m1.1\u001b[39m\n\u001b[0;32m      7\u001b[0m     \u001b[39mreturn\u001b[39;00m price1 \u001b[39m+\u001b[39m price2\n\u001b[1;32m----> 9\u001b[0m \u001b[39mprint\u001b[39m (total() \u001b[39m*\u001b[39m tax)\n",
      "\u001b[1;31mNameError\u001b[0m: name 'tax' is not defined"
     ]
    }
   ],
   "source": [
    "# %%\n",
    "\n",
    "price1 = 100\n",
    "price2 = 200\n",
    "\n",
    "def total():\n",
    "    tax = 1.1\n",
    "    return price1 + price2\n",
    "\n",
    "print (total() * tax)"
   ]
  },
  {
   "cell_type": "code",
   "execution_count": null,
   "id": "f519af7a-79a8-49da-8763-d1749fc4bcb5",
   "metadata": {},
   "outputs": [
    {
     "name": "stdout",
     "output_type": "stream",
     "text": [
      "330.0\n"
     ]
    }
   ],
   "source": [
    "# %%\n",
    "\n",
    "price1 = 100\n",
    "price2 = 200\n",
    "tax = 1.1\n",
    "\n",
    "def total():\n",
    "    #tax = 1.1\n",
    "    return price1 + price2\n",
    "\n",
    "print (total() * tax)"
   ]
  }
 ],
 "metadata": {
  "language_info": {
   "codemirror_mode": {
    "name": "ipython",
    "version": 3
   },
   "file_extension": ".py",
   "mimetype": "text/x-python",
   "name": "python",
   "nbconvert_exporter": "python",
   "pygments_lexer": "ipython3",
   "version": 3
  }
 },
 "nbformat": 4,
 "nbformat_minor": 2
}
