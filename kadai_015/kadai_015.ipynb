{
 "cells": [
  {
   "cell_type": "code",
   "execution_count": 1,
   "id": "0edd7950",
   "metadata": {},
   "outputs": [
    {
     "name": "stdout",
     "output_type": "stream",
     "text": [
      "名前:Ruru\n",
      "年齢:3\n"
     ]
    }
   ],
   "source": [
    "class Human:\n",
    "    def __init__(self,name,age):\n",
    "        #属性の定義\n",
    "        self.name = name\n",
    "        self.age = age\n",
    "    #メソッドの定義\n",
    "    def printinfo(self):\n",
    "        print(f\"名前:{self.name}\")\n",
    "        print(f\"年齢:{self.age}\")\n",
    "\n",
    "#Humanクラスのインスタンス化\n",
    "human_01 = Human(\"Ruru\",3)\n",
    "\n",
    "#メソッドの適用\n",
    "human_01.printinfo()"
   ]
  }
 ],
 "metadata": {
  "kernelspec": {
   "display_name": "Python 3",
   "language": "python",
   "name": "python3"
  },
  "language_info": {
   "codemirror_mode": {
    "name": "ipython",
    "version": 3
   },
   "file_extension": ".py",
   "mimetype": "text/x-python",
   "name": "python",
   "nbconvert_exporter": "python",
   "pygments_lexer": "ipython3",
   "version": "3.12.4"
  }
 },
 "nbformat": 4,
 "nbformat_minor": 5
}
