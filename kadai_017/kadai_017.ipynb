{
 "cells": [
  {
   "cell_type": "code",
   "execution_count": null,
   "id": "9064b106",
   "metadata": {},
   "outputs": [
    {
     "name": "stdout",
     "output_type": "stream",
     "text": [
      "ruruさんは大人です\n",
      "raluさんは大人です\n",
      "tottoさんは大人ではありません\n"
     ]
    }
   ],
   "source": [
    "class Human:\n",
    "    def __init__(self,name,age):\n",
    "        self.name = name\n",
    "        self.age = age\n",
    "    #メソッドの定義\n",
    "    def check_adult(self):\n",
    "        if self.age >= 20:\n",
    "            print(f\"{self.name}さんは大人です\")\n",
    "        else:\n",
    "            print(f\"{self.name}さんは大人ではありません\")\n",
    "\n",
    "#インスタンスを複数作成\n",
    "human01 = Human(\"ruru\",21)\n",
    "human02 = Human(\"ralu\",37)\n",
    "human03 = Human(\"totto\",15)\n",
    "\n",
    "#インスタンスをリストに追加\n",
    "human_list = [human01,human02,human03]\n",
    "\n",
    "#リストの数だけcheck_adultメソッドを呼び出す\n",
    "for human in human_list:\n",
    "    human.check_adult()\n",
    "\n",
    "    "
   ]
  },
  {
   "cell_type": "code",
   "execution_count": null,
   "id": "c89b4713",
   "metadata": {},
   "outputs": [],
   "source": []
  }
 ],
 "metadata": {
  "kernelspec": {
   "display_name": "Python 3",
   "language": "python",
   "name": "python3"
  },
  "language_info": {
   "codemirror_mode": {
    "name": "ipython",
    "version": 3
   },
   "file_extension": ".py",
   "mimetype": "text/x-python",
   "name": "python",
   "nbconvert_exporter": "python",
   "pygments_lexer": "ipython3",
   "version": "3.12.4"
  }
 },
 "nbformat": 4,
 "nbformat_minor": 5
}
